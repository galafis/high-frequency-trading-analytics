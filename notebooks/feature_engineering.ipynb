"""
Feature Engineering para High Frequency Trading (HFT)
Pipeline consolidado - leitura, criação de features, normalização, visualização e exportação.
Adapte os caminhos e colunas conforme seu dataset real.
"""

import pandas as pd
import numpy as np
import matplotlib.pyplot as plt
import seaborn as sns

# ------- 1. Carregamento dos Dados -------
df = pd.read_csv('../data/raw/trades_20250801.csv',
                 parse_dates=['timestamp'],
                 index_col='timestamp')
print("Colunas:", df.columns)
print(df.head())

# ------- 2. Criação de Features Clássicas -------
df['price_lag1'] = df['price'].shift(1)
df['log_return_1'] = np.log(df['price'] / df['price_lag1'])
df['price_ma_10'] = df['price'].rolling(window=10, min_periods=1).mean()
df['vol_10'] = df['log_return_1'].rolling(window=10, min_periods=2).std()

# Spread, Imbalance e Execução Parcial (se colunas existirem)
if {'ask', 'bid'}.issubset(df.columns):
    df['spread'] = df['ask'] - df['bid']
if {'ask_volume', 'bid_volume'}.issubset(df.columns):
    df['obi'] = (df['bid_volume'] - df['ask_volume']) / (df['bid_volume'] + df['ask_volume'] + 1e-6)
if {'order_qty', 'exec_qty'}.issubset(df.columns):
    df['partial_exec_flag'] = (df['exec_qty'] < df['order_qty']).astype(int)

# ------- 3. Normalização e Z-Score -------
window = 60*5
df['price_zscore_5min'] = (
    (df['price'] - df['price'].rolling(window, min_periods=30).mean()) /
    (df['price'].rolling(window, min_periods=30).std() + 1e-8)
)
df['log_return_scaled'] = (
    (df['log_return_1'] - df['log_return_1'].rolling(100, min_periods=20).min()) /
    (df['log_return_1'].rolling(100, min_periods=20).max() - df['log_return_1'].rolling(100, min_periods=20).min() + 1e-8)
)

# ------- 4. Visualizações Rápidas -------
plt.figure(figsize=(18, 4))

plt.subplot(1, 3, 1)
sns.histplot(df['log_return_1'].dropna(), bins=50)
plt.title("Retornos Log")

plt.subplot(1, 3, 2)
sns.lineplot(x=df.index, y=df['vol_10'])
plt.title("Volatilidade (STD Rolling)")

plt.subplot(1, 3, 3)
sns.histplot(df['price_zscore_5min'].dropna(), bins=50)
plt.title("Z-Score Rolling Preço")
plt.tight_layout()
plt.show()

# ------- 5. Exportação do Dataset de Features -------
feature_cols = [
    'price', 'price_lag1', 'log_return_1', 'price_ma_10', 'vol_10',
    'obi', 'spread', 'partial_exec_flag', 'price_zscore_5min', 'log_return_scaled'
]
features_out = df[feature_cols].dropna()
features_out.to_parquet('../data/processed/hft_features.parquet')
features_out.to_csv('../data/processed/hft_features.csv')
print("Exportação concluída:", features_out.shape)
