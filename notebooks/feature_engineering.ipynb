
"""
Feature Engineering para High Frequency Trading (HFT)
Pipeline consolidado - leitura, criação de features, normalização, visualização e exportação.
Adapte os caminhos e colunas conforme seu dataset real.
"""

import pandas as pd
import numpy as np
import matplotlib.pyplot as plt
import seaborn as sns

# ------- 1. Carregamento dos Dados -------
df = pd.read_csv('../data/raw/trades_20250801.csv',
                 parse_dates=['timestamp'],
                 index_col='timestamp')
print("Colunas:", df.columns)
print(df.head())

# ------- 2. Criação de Features Clássicas -------
df['price_lag1'] = df['price'].shift(1)
df['log_return_1'] = np.log(df['price'] / df['price_lag1'])
df['price_ma_10'] = df['price'].rolling(window=10, min_periods=1).mean()
df['vol_10'] = df['log_return_1'].rolling(window=10, min_periods=2).std()

# Spread, Imbalance e Execução Parcial (se colunas existirem)
if {'ask', 'bid'}.issubset(df.columns):
    df['spread'] = df['ask'] - df['bid']
if {'ask_volume', 'bid_volume'}.issubset(df.columns):
    df['obi'] = (df['bid_volume']
