"""
Pipeline de Feature Engineering para HFT (High Frequency Trading)
- Pronto para uso em notebooks Jupyter/Colab/VScode ou como script .py
"""

# -------------------- Bibliotecas essenciais --------------------
import pandas as pd
import numpy as np
import matplotlib.pyplot as plt
import seaborn as sns

plt.style.use("seaborn-v0_8-darkgrid")
sns.set_palette("muted")

# -------------------- 1. Carregamento dos Dados --------------------
# Troque pelo caminho do seu CSV real
df = pd.read_csv('../data/raw/trades_20250801.csv',
                 parse_dates=['timestamp'],
                 index_col='timestamp')

print("Preview e colunas:", df.head(), df.columns.tolist())

# -------------------- 2. Criação de Features de Mercado --------------------
df['price_lag1'] = df['price'].shift(1)
df['log_return_1'] = np.log(df['price']

