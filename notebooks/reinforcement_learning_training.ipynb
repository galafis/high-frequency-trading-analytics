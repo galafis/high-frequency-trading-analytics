{
 "cells": [
  {
   "cell_type": "markdown",
   "metadata": {},
   "source": [
    "# Reinforcement Learning Training\n",
    "\n",
    "Treinamento de agentes de reinforcement learning para trading de alta frequência.\n",
    "\n",
    "## Objetivos\n",
    "- Implementação de agentes DQN, PPO e A3C\n",
    "- Treinamento com dados históricos\n",
    "- Otimização de hiperparâmetros\n",
    "- Avaliação de performance dos agentes"
   ]
  },
  {
   "cell_type": "code",
   "execution_count": null,
   "metadata": {},
   "outputs": [],
   "source": [
    "# Imports para Reinforcement Learning\n",
    "import torch\n",
    "import torch.nn as nn\n",
    "import numpy as np\n",
    "from stable_baselines3 import PPO, DQN\n",
    "import gym\n",
    "\n",
    "# Configurar dispositivo\n",
    "device = torch.device('cuda' if torch.cuda.is_available() else 'cpu')\n",
    "print(f'Dispositivo: {device}')"
   ]
  }
 ],
 "metadata": {
  "kernelspec": {
   "display_name": "Python 3",
   "language": "python",
   "name": "python3"
  },
  "language_info": {
   "name": "python",
   "version": "3.9.0"
  }
 },
 "nbformat": 4,
 "nbformat_minor": 4
}
